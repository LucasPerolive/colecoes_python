{
  "nbformat": 4,
  "nbformat_minor": 0,
  "metadata": {
    "colab": {
      "provenance": [],
      "collapsed_sections": [
        "C8CwRPJTHr3m",
        "QI_jYoN-UoAy"
      ]
    },
    "kernelspec": {
      "name": "python3",
      "display_name": "Python 3"
    },
    "language_info": {
      "name": "python"
    }
  },
  "cells": [
    {
      "cell_type": "markdown",
      "source": [
        "# Conjunto"
      ],
      "metadata": {
        "id": "5i390FGePgnR"
      }
    },
    {
      "cell_type": "code",
      "execution_count": 1,
      "metadata": {
        "id": "Ak7J8W--PX3f"
      },
      "outputs": [],
      "source": [
        "# Listas\n",
        "usuarios_data_science= [15, 23, 43, 56]\n",
        "usuarios_machine_learning = [13, 23, 56, 42]"
      ]
    },
    {
      "cell_type": "code",
      "source": [
        "# Concatenação\n",
        "assistiram = usuarios_data_science.copy()\n",
        "assistiram.extend(usuarios_machine_learning)\n",
        "assistiram"
      ],
      "metadata": {
        "colab": {
          "base_uri": "https://localhost:8080/"
        },
        "id": "tTs1es2APvvz",
        "outputId": "13bfd91d-a16c-4ffd-a048-2b2960fb692a"
      },
      "execution_count": 2,
      "outputs": [
        {
          "output_type": "execute_result",
          "data": {
            "text/plain": [
              "[15, 23, 43, 56, 13, 23, 56, 42]"
            ]
          },
          "metadata": {},
          "execution_count": 2
        }
      ]
    },
    {
      "cell_type": "code",
      "source": [
        "# Tamanho da lista\n",
        "len(assistiram)\n"
      ],
      "metadata": {
        "colab": {
          "base_uri": "https://localhost:8080/"
        },
        "id": "BZjVWo_LQFER",
        "outputId": "f80a8cc6-c637-4ad8-dfa1-bbb22607a941"
      },
      "execution_count": null,
      "outputs": [
        {
          "output_type": "execute_result",
          "data": {
            "text/plain": [
              "8"
            ]
          },
          "metadata": {},
          "execution_count": 4
        }
      ]
    },
    {
      "cell_type": "code",
      "source": [
        "# Todos números (não mostra o repetidos)\n",
        "set(assistiram)"
      ],
      "metadata": {
        "colab": {
          "base_uri": "https://localhost:8080/"
        },
        "id": "ud-1tLEPTovT",
        "outputId": "86600b4f-a056-4500-e018-c609346d5b30"
      },
      "execution_count": null,
      "outputs": [
        {
          "output_type": "execute_result",
          "data": {
            "text/plain": [
              "{13, 15, 23, 42, 43, 56}"
            ]
          },
          "metadata": {},
          "execution_count": 5
        }
      ]
    },
    {
      "cell_type": "code",
      "source": [
        "set([1,2,2,46,43])"
      ],
      "metadata": {
        "colab": {
          "base_uri": "https://localhost:8080/"
        },
        "id": "iW4QZvnbT6wL",
        "outputId": "b51936a8-befa-4c7e-b84f-2742830efb2e"
      },
      "execution_count": null,
      "outputs": [
        {
          "output_type": "execute_result",
          "data": {
            "text/plain": [
              "{1, 2, 43, 46}"
            ]
          },
          "metadata": {},
          "execution_count": 6
        }
      ]
    },
    {
      "cell_type": "code",
      "source": [
        "usuarios_data_science = {15, 23, 43, 56}\n",
        "usuarios_machine_learning = {13, 23, 56, 42}"
      ],
      "metadata": {
        "id": "mGizd1beUBTy"
      },
      "execution_count": 3,
      "outputs": []
    },
    {
      "cell_type": "code",
      "source": [
        "for usuario in set(assistiram):\n",
        "  print(usuario)"
      ],
      "metadata": {
        "colab": {
          "base_uri": "https://localhost:8080/"
        },
        "id": "GvGe9SM4UYMj",
        "outputId": "72bb9656-9d38-460c-f3d0-f335c6947150"
      },
      "execution_count": null,
      "outputs": [
        {
          "output_type": "stream",
          "name": "stdout",
          "text": [
            "42\n",
            "43\n",
            "13\n",
            "15\n",
            "23\n",
            "56\n"
          ]
        }
      ]
    },
    {
      "cell_type": "code",
      "source": [
        "# Operação de união (|) entre os dois conjuntos\n",
        "# Isso retorna um novo conjunto com todos os que estão em pelo menos um dos dois\n",
        "usuarios_data_science | usuarios_machine_learning"
      ],
      "metadata": {
        "colab": {
          "base_uri": "https://localhost:8080/"
        },
        "id": "Bar469grU1vq",
        "outputId": "459de27e-bcab-42e9-862d-2626fd3f9955"
      },
      "execution_count": 4,
      "outputs": [
        {
          "output_type": "execute_result",
          "data": {
            "text/plain": [
              "{13, 15, 23, 42, 43, 56}"
            ]
          },
          "metadata": {},
          "execution_count": 4
        }
      ]
    },
    {
      "cell_type": "code",
      "source": [
        "# Operação de interseção (&) entre os dois conjuntos\n",
        "# Isso retorna um novo conjunto com os que estão presentes em ambos\n",
        "usuarios_data_science & usuarios_machine_learning"
      ],
      "metadata": {
        "colab": {
          "base_uri": "https://localhost:8080/"
        },
        "id": "qb7g0qqVWvnT",
        "outputId": "8c9ce6db-41d5-4eda-b517-75e13b9e6b7a"
      },
      "execution_count": null,
      "outputs": [
        {
          "output_type": "execute_result",
          "data": {
            "text/plain": [
              "{23, 56}"
            ]
          },
          "metadata": {},
          "execution_count": 15
        }
      ]
    },
    {
      "cell_type": "code",
      "source": [
        "# Operação de diferença (-) entre os dois conjuntos\n",
        "# Isso retorna um novo conjunto com os que estão no primeiro, mas não no segundo\n",
        "usuarios_data_science - usuarios_machine_learning"
      ],
      "metadata": {
        "colab": {
          "base_uri": "https://localhost:8080/"
        },
        "id": "_MD5P7TZXkRE",
        "outputId": "528d41ff-32a1-4fa0-bd7f-309a235f2dab"
      },
      "execution_count": 5,
      "outputs": [
        {
          "output_type": "execute_result",
          "data": {
            "text/plain": [
              "{15, 43}"
            ]
          },
          "metadata": {},
          "execution_count": 5
        }
      ]
    },
    {
      "cell_type": "code",
      "source": [
        "fez_ds_mas_nao_fez_ml = usuarios_data_science - usuarios_machine_learning\n",
        "15 in fez_ds_mas_nao_fez_ml"
      ],
      "metadata": {
        "colab": {
          "base_uri": "https://localhost:8080/"
        },
        "id": "2rhBPlENXmKM",
        "outputId": "d03f2497-03a7-4ec6-b21a-12902c8f9297"
      },
      "execution_count": 6,
      "outputs": [
        {
          "output_type": "execute_result",
          "data": {
            "text/plain": [
              "True"
            ]
          },
          "metadata": {},
          "execution_count": 6
        }
      ]
    },
    {
      "cell_type": "code",
      "source": [
        "# Operação de diferença simétrica (^) entre os dois conjuntos\n",
        "# Isso retorna um novo conjunto com os que estão em apenas um dos dois, mas não nos dois\n",
        "usuarios_data_science ^ usuarios_machine_learning"
      ],
      "metadata": {
        "colab": {
          "base_uri": "https://localhost:8080/"
        },
        "id": "CdELv9TKXo1U",
        "outputId": "1dac9491-fed1-4fa6-f593-90d622b1ae23"
      },
      "execution_count": null,
      "outputs": [
        {
          "output_type": "execute_result",
          "data": {
            "text/plain": [
              "{13, 15, 42, 43}"
            ]
          },
          "metadata": {},
          "execution_count": 19
        }
      ]
    },
    {
      "cell_type": "code",
      "source": [
        "usuarios = {1, 5, 76, 34, 52, 13, 17}\n",
        "len(usuarios)"
      ],
      "metadata": {
        "colab": {
          "base_uri": "https://localhost:8080/"
        },
        "id": "aQaj10T9C5iW",
        "outputId": "4617ff85-b214-42f3-f11d-e3f23d826bbf"
      },
      "execution_count": 7,
      "outputs": [
        {
          "output_type": "execute_result",
          "data": {
            "text/plain": [
              "7"
            ]
          },
          "metadata": {},
          "execution_count": 7
        }
      ]
    },
    {
      "cell_type": "code",
      "source": [
        "usuarios.add(90) # Caso o valor já exista não é adicionado\n",
        "len(usuarios)"
      ],
      "metadata": {
        "colab": {
          "base_uri": "https://localhost:8080/"
        },
        "id": "6f8F_kGmDDi1",
        "outputId": "b228943a-e2fa-4a7a-c026-8e534bf35fca"
      },
      "execution_count": 8,
      "outputs": [
        {
          "output_type": "execute_result",
          "data": {
            "text/plain": [
              "8"
            ]
          },
          "metadata": {},
          "execution_count": 8
        }
      ]
    },
    {
      "cell_type": "code",
      "source": [
        "usuarios = frozenset(usuarios)\n",
        "usuarios"
      ],
      "metadata": {
        "colab": {
          "base_uri": "https://localhost:8080/"
        },
        "id": "S2BxVMaqDqvu",
        "outputId": "0a96f151-2002-480b-dda0-5466a5236660"
      },
      "execution_count": 9,
      "outputs": [
        {
          "output_type": "execute_result",
          "data": {
            "text/plain": [
              "frozenset({1, 5, 13, 17, 34, 52, 76, 90})"
            ]
          },
          "metadata": {},
          "execution_count": 9
        }
      ]
    },
    {
      "cell_type": "code",
      "source": [
        " meu_texto = \"Bem vindo meu nome é Lucas eu gosto muito de nomes e tenho o meu cachorro e gosto muito de cachorro\"\n",
        " meu_texto.split()"
      ],
      "metadata": {
        "colab": {
          "base_uri": "https://localhost:8080/"
        },
        "id": "06l0NQvCD6X2",
        "outputId": "4a56ed5f-3b1a-47d2-9a91-648e9a241b17"
      },
      "execution_count": 10,
      "outputs": [
        {
          "output_type": "execute_result",
          "data": {
            "text/plain": [
              "['Bem',\n",
              " 'vindo',\n",
              " 'meu',\n",
              " 'nome',\n",
              " 'é',\n",
              " 'Lucas',\n",
              " 'eu',\n",
              " 'gosto',\n",
              " 'muito',\n",
              " 'de',\n",
              " 'nomes',\n",
              " 'e',\n",
              " 'tenho',\n",
              " 'o',\n",
              " 'meu',\n",
              " 'cachorro',\n",
              " 'e',\n",
              " 'gosto',\n",
              " 'muito',\n",
              " 'de',\n",
              " 'cachorro']"
            ]
          },
          "metadata": {},
          "execution_count": 10
        }
      ]
    },
    {
      "cell_type": "code",
      "source": [
        "set(meu_texto.split())"
      ],
      "metadata": {
        "id": "YknE6fHiFZJW",
        "colab": {
          "base_uri": "https://localhost:8080/"
        },
        "outputId": "74873ab8-675f-4d5b-973e-4f87f458b746"
      },
      "execution_count": 11,
      "outputs": [
        {
          "output_type": "execute_result",
          "data": {
            "text/plain": [
              "{'Bem',\n",
              " 'Lucas',\n",
              " 'cachorro',\n",
              " 'de',\n",
              " 'e',\n",
              " 'eu',\n",
              " 'gosto',\n",
              " 'meu',\n",
              " 'muito',\n",
              " 'nome',\n",
              " 'nomes',\n",
              " 'o',\n",
              " 'tenho',\n",
              " 'vindo',\n",
              " 'é'}"
            ]
          },
          "metadata": {},
          "execution_count": 11
        }
      ]
    },
    {
      "cell_type": "markdown",
      "source": [
        "# Dicionário (Mapa etc)"
      ],
      "metadata": {
        "id": "C8CwRPJTHr3m"
      }
    },
    {
      "cell_type": "code",
      "source": [
        "aparicoes = {\n",
        "\"Guilherme\": 1,\n",
        "\"cachorro\" : 2,\n",
        "\"nome\" : 2,\n",
        "\"vindo\" : 1\n",
        "}"
      ],
      "metadata": {
        "id": "D-RAivjrHU-O"
      },
      "execution_count": 12,
      "outputs": []
    },
    {
      "cell_type": "code",
      "source": [
        "type(aparicoes)"
      ],
      "metadata": {
        "colab": {
          "base_uri": "https://localhost:8080/"
        },
        "id": "KILv7HPdJENP",
        "outputId": "7e85bc37-9c4d-48ea-d8c7-efe09eecca11"
      },
      "execution_count": null,
      "outputs": [
        {
          "output_type": "execute_result",
          "data": {
            "text/plain": [
              "dict"
            ]
          },
          "metadata": {},
          "execution_count": 31
        }
      ]
    },
    {
      "cell_type": "code",
      "source": [
        "aparicoes[\"Guilherme\"]"
      ],
      "metadata": {
        "colab": {
          "base_uri": "https://localhost:8080/"
        },
        "id": "5E4Bgp9EJWvH",
        "outputId": "8001a9c3-83b2-4762-c611-e96379b47b8e"
      },
      "execution_count": null,
      "outputs": [
        {
          "output_type": "execute_result",
          "data": {
            "text/plain": [
              "1"
            ]
          },
          "metadata": {},
          "execution_count": 32
        }
      ]
    },
    {
      "cell_type": "code",
      "source": [
        "aparicoes.get(\"nao-tem\", 0)"
      ],
      "metadata": {
        "colab": {
          "base_uri": "https://localhost:8080/"
        },
        "id": "PjP7MBJJJc1_",
        "outputId": "0b647952-9182-48a3-8f8d-25732252b5c8"
      },
      "execution_count": 14,
      "outputs": [
        {
          "output_type": "execute_result",
          "data": {
            "text/plain": [
              "0"
            ]
          },
          "metadata": {},
          "execution_count": 14
        }
      ]
    },
    {
      "cell_type": "code",
      "source": [
        "aparicoes = dict(Guilherme = 2, cachorro = 1)\n",
        "aparicoes"
      ],
      "metadata": {
        "colab": {
          "base_uri": "https://localhost:8080/"
        },
        "id": "AX4k3WEKJodQ",
        "outputId": "d311c57a-ceae-410a-9090-c1ffb18d9c7c"
      },
      "execution_count": 15,
      "outputs": [
        {
          "output_type": "execute_result",
          "data": {
            "text/plain": [
              "{'Guilherme': 2, 'cachorro': 1}"
            ]
          },
          "metadata": {},
          "execution_count": 15
        }
      ]
    },
    {
      "cell_type": "code",
      "source": [
        "aparicoes[\"Carlos\"] = 1"
      ],
      "metadata": {
        "id": "IzYQ3aoNJ__X"
      },
      "execution_count": 16,
      "outputs": []
    },
    {
      "cell_type": "code",
      "source": [
        "aparicoes"
      ],
      "metadata": {
        "colab": {
          "base_uri": "https://localhost:8080/"
        },
        "id": "Z33iCsU9KNex",
        "outputId": "2ef98830-7c82-49e1-9edc-e5f30d9833c0"
      },
      "execution_count": 17,
      "outputs": [
        {
          "output_type": "execute_result",
          "data": {
            "text/plain": [
              "{'Guilherme': 2, 'cachorro': 1, 'Carlos': 1}"
            ]
          },
          "metadata": {},
          "execution_count": 17
        }
      ]
    },
    {
      "cell_type": "code",
      "source": [
        "aparicoes[\"Carlos\"] = 2"
      ],
      "metadata": {
        "id": "JsgvHt4cKOH_"
      },
      "execution_count": null,
      "outputs": []
    },
    {
      "cell_type": "code",
      "source": [
        "aparicoes"
      ],
      "metadata": {
        "colab": {
          "base_uri": "https://localhost:8080/"
        },
        "id": "V7VO2EDsKSq3",
        "outputId": "3f74d7bb-de46-4533-b17b-1cc743054f0e"
      },
      "execution_count": null,
      "outputs": [
        {
          "output_type": "execute_result",
          "data": {
            "text/plain": [
              "{'Guilherme': 2, 'cachorro': 1, 'Carlos': 2}"
            ]
          },
          "metadata": {},
          "execution_count": 40
        }
      ]
    },
    {
      "cell_type": "code",
      "source": [
        "del aparicoes[\"Carlos\"]"
      ],
      "metadata": {
        "id": "C-XImAV-KT5n"
      },
      "execution_count": null,
      "outputs": []
    },
    {
      "cell_type": "code",
      "source": [
        "aparicoes"
      ],
      "metadata": {
        "colab": {
          "base_uri": "https://localhost:8080/"
        },
        "id": "NItHXVnnKYyP",
        "outputId": "6ad46ac7-2751-4e56-aabd-cc8655c11e1c"
      },
      "execution_count": null,
      "outputs": [
        {
          "output_type": "execute_result",
          "data": {
            "text/plain": [
              "{'Guilherme': 2, 'cachorro': 1}"
            ]
          },
          "metadata": {},
          "execution_count": 42
        }
      ]
    },
    {
      "cell_type": "code",
      "source": [
        "\"cachorro\" in aparicoes"
      ],
      "metadata": {
        "colab": {
          "base_uri": "https://localhost:8080/"
        },
        "id": "9dtBnYxRKaqI",
        "outputId": "40d3f886-94b7-4659-9078-4e76a5cae638"
      },
      "execution_count": null,
      "outputs": [
        {
          "output_type": "execute_result",
          "data": {
            "text/plain": [
              "True"
            ]
          },
          "metadata": {},
          "execution_count": 43
        }
      ]
    },
    {
      "cell_type": "code",
      "source": [
        "\"Carlos\" in aparicoes"
      ],
      "metadata": {
        "colab": {
          "base_uri": "https://localhost:8080/"
        },
        "id": "oP6tJKiSK6E_",
        "outputId": "266d2da5-ed0b-4558-d9ea-8f3441927fd0"
      },
      "execution_count": null,
      "outputs": [
        {
          "output_type": "execute_result",
          "data": {
            "text/plain": [
              "False"
            ]
          },
          "metadata": {},
          "execution_count": 44
        }
      ]
    },
    {
      "cell_type": "code",
      "source": [
        "for elemento in aparicoes:\n",
        "  print(elemento)"
      ],
      "metadata": {
        "colab": {
          "base_uri": "https://localhost:8080/"
        },
        "id": "EiHuwJHWLECf",
        "outputId": "32fcf755-4139-4169-f9d7-45bd991d4717"
      },
      "execution_count": null,
      "outputs": [
        {
          "output_type": "stream",
          "name": "stdout",
          "text": [
            "Guilherme\n",
            "cachorro\n"
          ]
        }
      ]
    },
    {
      "cell_type": "code",
      "source": [
        "for elemento in aparicoes.keys():\n",
        "  print(elemento)"
      ],
      "metadata": {
        "colab": {
          "base_uri": "https://localhost:8080/"
        },
        "id": "OWx7GhpBLJzP",
        "outputId": "ffb98d09-6672-4c70-93d1-30ec09664741"
      },
      "execution_count": null,
      "outputs": [
        {
          "output_type": "stream",
          "name": "stdout",
          "text": [
            "Guilherme\n",
            "cachorro\n"
          ]
        }
      ]
    },
    {
      "cell_type": "code",
      "source": [
        "for elemento in aparicoes.values():\n",
        "  print(elemento)"
      ],
      "metadata": {
        "colab": {
          "base_uri": "https://localhost:8080/"
        },
        "id": "W4uYL7-NLfIo",
        "outputId": "2d421af8-120d-4ad9-a739-f312f10701bc"
      },
      "execution_count": null,
      "outputs": [
        {
          "output_type": "stream",
          "name": "stdout",
          "text": [
            "2\n",
            "1\n"
          ]
        }
      ]
    },
    {
      "cell_type": "code",
      "source": [
        "for elemento in aparicoes.items():\n",
        "  print(elemento)"
      ],
      "metadata": {
        "colab": {
          "base_uri": "https://localhost:8080/"
        },
        "id": "WMahpHHzLnFX",
        "outputId": "3ebc9c85-206c-4886-9c29-fb074c7d1951"
      },
      "execution_count": null,
      "outputs": [
        {
          "output_type": "stream",
          "name": "stdout",
          "text": [
            "('Guilherme', 2)\n",
            "('cachorro', 1)\n"
          ]
        }
      ]
    },
    {
      "cell_type": "code",
      "source": [
        "for chave, valor in aparicoes.items():\n",
        "  print(chave, \"=\", valor)"
      ],
      "metadata": {
        "colab": {
          "base_uri": "https://localhost:8080/"
        },
        "id": "_5ZzYDouLxzQ",
        "outputId": "ff3720aa-200b-431e-a87b-25da805408fa"
      },
      "execution_count": null,
      "outputs": [
        {
          "output_type": "stream",
          "name": "stdout",
          "text": [
            "Guilherme = 2\n",
            "cachorro = 1\n"
          ]
        }
      ]
    },
    {
      "cell_type": "code",
      "source": [
        "[f\"palavra {chave}\"for chave in aparicoes.keys()]"
      ],
      "metadata": {
        "colab": {
          "base_uri": "https://localhost:8080/"
        },
        "id": "azrVmqL8MfO_",
        "outputId": "3b935ab5-104b-4beb-8c04-9fbaa3010b01"
      },
      "execution_count": null,
      "outputs": [
        {
          "output_type": "execute_result",
          "data": {
            "text/plain": [
              "['palavra Guilherme', 'palavra cachorro']"
            ]
          },
          "metadata": {},
          "execution_count": 56
        }
      ]
    },
    {
      "cell_type": "code",
      "source": [
        "meu_texto = \"Bem vindo meu nome é Lucas eu gosto muito de nomes e tenho o meu cachorro e gosto muito de cachorro\"\n",
        "meu_texto = meu_texto.lower()\n",
        "\n",
        "aparicoes = {}\n",
        "\n",
        "for palavra in meu_texto.split():\n",
        "  ate_agora = aparicoes.get('palavra', 0)\n",
        "  aparicoes[palavra] = ate_agora + 1\n",
        "\n",
        "aparicoes"
      ],
      "metadata": {
        "colab": {
          "base_uri": "https://localhost:8080/"
        },
        "id": "QQsyHtObM8E4",
        "outputId": "be041933-540a-4d32-e256-91b01e21da19"
      },
      "execution_count": null,
      "outputs": [
        {
          "output_type": "execute_result",
          "data": {
            "text/plain": [
              "{'bem': 1,\n",
              " 'vindo': 1,\n",
              " 'meu': 1,\n",
              " 'nome': 1,\n",
              " 'é': 1,\n",
              " 'lucas': 1,\n",
              " 'eu': 1,\n",
              " 'gosto': 1,\n",
              " 'muito': 1,\n",
              " 'de': 1,\n",
              " 'nomes': 1,\n",
              " 'e': 1,\n",
              " 'tenho': 1,\n",
              " 'o': 1,\n",
              " 'cachorro': 1}"
            ]
          },
          "metadata": {},
          "execution_count": 68
        }
      ]
    },
    {
      "cell_type": "code",
      "source": [
        "from collections import defaultdict\n",
        "\n",
        "aparicoes = defaultdict(int)\n",
        "\n",
        "for palavra in meu_texto.split():\n",
        "  ate_agora = aparicoes[palavra]\n",
        "  aparicoes[palavra] = ate_agora + 1\n",
        "\n",
        "aparicoes"
      ],
      "metadata": {
        "colab": {
          "base_uri": "https://localhost:8080/"
        },
        "id": "Y15BBAFtNW_A",
        "outputId": "9847dab2-44bb-41b2-cd2c-d2e1f70ddd2b"
      },
      "execution_count": null,
      "outputs": [
        {
          "output_type": "execute_result",
          "data": {
            "text/plain": [
              "defaultdict(int,\n",
              "            {'bem': 1,\n",
              "             'vindo': 1,\n",
              "             'meu': 2,\n",
              "             'nome': 1,\n",
              "             'é': 1,\n",
              "             'lucas': 1,\n",
              "             'eu': 1,\n",
              "             'gosto': 2,\n",
              "             'muito': 2,\n",
              "             'de': 2,\n",
              "             'nomes': 1,\n",
              "             'e': 2,\n",
              "             'tenho': 1,\n",
              "             'o': 1,\n",
              "             'cachorro': 2})"
            ]
          },
          "metadata": {},
          "execution_count": 76
        }
      ]
    },
    {
      "cell_type": "code",
      "source": [
        "int()"
      ],
      "metadata": {
        "colab": {
          "base_uri": "https://localhost:8080/"
        },
        "id": "hlaGf98GQbRK",
        "outputId": "3bfd1fc1-c32c-4124-92a9-fc80950de67e"
      },
      "execution_count": null,
      "outputs": [
        {
          "output_type": "execute_result",
          "data": {
            "text/plain": [
              "0"
            ]
          },
          "metadata": {},
          "execution_count": 72
        }
      ]
    },
    {
      "cell_type": "code",
      "source": [
        "aparicoes = defaultdict(int)\n",
        "\n",
        "for palavra in meu_texto.split():\n",
        "  aparicoes[palavra] += 1\n",
        "\n",
        "aparicoes"
      ],
      "metadata": {
        "colab": {
          "base_uri": "https://localhost:8080/"
        },
        "id": "ap7Tz3NLQ_GR",
        "outputId": "4e44d808-6e92-480b-cae7-859cab625454"
      },
      "execution_count": null,
      "outputs": [
        {
          "output_type": "execute_result",
          "data": {
            "text/plain": [
              "defaultdict(int,\n",
              "            {'bem': 1,\n",
              "             'vindo': 1,\n",
              "             'meu': 2,\n",
              "             'nome': 1,\n",
              "             'é': 1,\n",
              "             'lucas': 1,\n",
              "             'eu': 1,\n",
              "             'gosto': 2,\n",
              "             'muito': 2,\n",
              "             'de': 2,\n",
              "             'nomes': 1,\n",
              "             'e': 2,\n",
              "             'tenho': 1,\n",
              "             'o': 1,\n",
              "             'cachorro': 2})"
            ]
          },
          "metadata": {},
          "execution_count": 77
        }
      ]
    },
    {
      "cell_type": "code",
      "source": [
        "class Conta:\n",
        "  def __init__(self):\n",
        "    print(\"Criando uma conta\")"
      ],
      "metadata": {
        "id": "TDBCuvGFSLdJ"
      },
      "execution_count": null,
      "outputs": []
    },
    {
      "cell_type": "code",
      "source": [
        "contas = defaultdict(Conta)\n",
        "contas[15]"
      ],
      "metadata": {
        "colab": {
          "base_uri": "https://localhost:8080/"
        },
        "id": "VuWV2wFKSeqq",
        "outputId": "30c66af2-7b2d-4fd0-d433-98e869c68bfc"
      },
      "execution_count": null,
      "outputs": [
        {
          "output_type": "stream",
          "name": "stdout",
          "text": [
            "Criando uma conta\n"
          ]
        },
        {
          "output_type": "execute_result",
          "data": {
            "text/plain": [
              "<__main__.Conta at 0x7f8c894031f0>"
            ]
          },
          "metadata": {},
          "execution_count": 83
        }
      ]
    },
    {
      "cell_type": "code",
      "source": [
        "contas[17]"
      ],
      "metadata": {
        "colab": {
          "base_uri": "https://localhost:8080/"
        },
        "id": "JoH7eM0mSjQ5",
        "outputId": "beb80a32-bf88-4aaa-c728-7227d953391e"
      },
      "execution_count": null,
      "outputs": [
        {
          "output_type": "stream",
          "name": "stdout",
          "text": [
            "Criando uma conta\n"
          ]
        },
        {
          "output_type": "execute_result",
          "data": {
            "text/plain": [
              "<__main__.Conta at 0x7f8c8943f2e0>"
            ]
          },
          "metadata": {},
          "execution_count": 84
        }
      ]
    },
    {
      "cell_type": "code",
      "source": [
        "from collections import Counter\n",
        "aparicoes = Counter()\n",
        "for palavra in meu_texto.split():\n",
        "  aparicoes[palavra] += 1\n",
        "\n",
        "aparicoes"
      ],
      "metadata": {
        "colab": {
          "base_uri": "https://localhost:8080/"
        },
        "id": "H1GE9mNPSwKK",
        "outputId": "65c29cec-8c6f-4eaa-94e6-261db372f0cb"
      },
      "execution_count": null,
      "outputs": [
        {
          "output_type": "execute_result",
          "data": {
            "text/plain": [
              "Counter({'bem': 1,\n",
              "         'vindo': 1,\n",
              "         'meu': 2,\n",
              "         'nome': 1,\n",
              "         'é': 1,\n",
              "         'lucas': 1,\n",
              "         'eu': 1,\n",
              "         'gosto': 2,\n",
              "         'muito': 2,\n",
              "         'de': 2,\n",
              "         'nomes': 1,\n",
              "         'e': 2,\n",
              "         'tenho': 1,\n",
              "         'o': 1,\n",
              "         'cachorro': 2})"
            ]
          },
          "metadata": {},
          "execution_count": 93
        }
      ]
    },
    {
      "cell_type": "code",
      "source": [
        "from collections import Counter\n",
        "aparicoes = Counter(meu_texto.split())\n",
        "\n",
        "aparicoes"
      ],
      "metadata": {
        "colab": {
          "base_uri": "https://localhost:8080/"
        },
        "id": "0uDoE_KsTXJi",
        "outputId": "665a1dc5-2fba-4a16-d809-1a13ca08c6fb"
      },
      "execution_count": null,
      "outputs": [
        {
          "output_type": "execute_result",
          "data": {
            "text/plain": [
              "Counter({'bem': 1,\n",
              "         'vindo': 1,\n",
              "         'meu': 2,\n",
              "         'nome': 1,\n",
              "         'é': 1,\n",
              "         'lucas': 1,\n",
              "         'eu': 1,\n",
              "         'gosto': 2,\n",
              "         'muito': 2,\n",
              "         'de': 2,\n",
              "         'nomes': 1,\n",
              "         'e': 2,\n",
              "         'tenho': 1,\n",
              "         'o': 1,\n",
              "         'cachorro': 2})"
            ]
          },
          "metadata": {},
          "execution_count": 94
        }
      ]
    },
    {
      "cell_type": "markdown",
      "source": [
        "# Testando o uso de dicersas coleções"
      ],
      "metadata": {
        "id": "QI_jYoN-UoAy"
      }
    },
    {
      "cell_type": "code",
      "source": [
        "aws = (\"\"\"A computação em nuvem, também conhecida como cloud computing, é uma realidade muito importante para diversos tipos de empresas e organizações, que têm, por meio dela, a oportunidade de terceirizar sua infraestrutura tecnológica, desde servidores, estações de trabalhos e/ou suites de diversos softwares.\n",
        "Para desenvolvedores e estudantes de tecnologia, entender e compreender como utilizar a nuvem com certeza será um diferencial. Isso vai desde o conhecimento sobre como hospedar uma aplicação, ao gerenciamento de um banco de dados na nuvem, entre outras funcionalidades.\"\"\")\n",
        "aws"
      ],
      "metadata": {
        "colab": {
          "base_uri": "https://localhost:8080/",
          "height": 105
        },
        "id": "k65bzEyNUnxV",
        "outputId": "80e68c49-afc9-439c-957f-38f1467a49c0"
      },
      "execution_count": null,
      "outputs": [
        {
          "output_type": "execute_result",
          "data": {
            "text/plain": [
              "'A computação em nuvem, também conhecida como cloud computing, é uma realidade muito importante para diversos tipos de empresas e organizações, que têm, por meio dela, a oportunidade de terceirizar sua infraestrutura tecnológica, desde servidores, estações de trabalhos e/ou suites de diversos softwares.Para desenvolvedores e estudantes de tecnologia, entender e compreender como utilizar a nuvem com certeza será um diferencial. Isso vai desde o conhecimento sobre como hospedar uma aplicação, ao gerenciamento de um banco de dados na nuvem, entre outras funcionalidades.'"
            ],
            "application/vnd.google.colaboratory.intrinsic+json": {
              "type": "string"
            }
          },
          "metadata": {},
          "execution_count": 96
        }
      ]
    },
    {
      "cell_type": "code",
      "source": [
        "transicao = (\"\"\"Existem várias questões que podem levar o profissional a considerar uma transição de carreira, e uma delas é ter insatisfações com o seu rumo profissional ou cargo atual e está tudo bem se isso acontecer, mudar faz parte da nossa existência.\n",
        "A baixa produtividade pode ser uma das características das pessoas insatisfeitas que permanecem em seu cargo indesejado. Seja qual for a sua motivação ou propósito, deve haver cuidado para as consequências não refletirem diretamente na vida pessoal do profissional.\n",
        "A transição de carreira é uma ótima opção para as pessoas que desejam desfrutar de novos desafios, que estão em busca de maior satisfação ou até mesmo estabilidade financeira. Muitos jovens fazem curso superior antes mesmo de ter alguma experiência no mercado de trabalho, isso pode também ocasionar uma transição, pois com a experiência profissional essas pessoas passam a ter contato com novas áreas.\n",
        "Além disso, podemos ver que o mundo está em constante mudança, novos empregos surgem enquanto outros são automatizados, e neste meio de tanta instabilidade desenvolver nossa capacidade de adaptação para desenvolver novas habilidades e competências pode fazer toda diferença em nossa carreira.\n",
        "Pensando na complexidade deste contexto, quero compartilhar com você pontos importantes sobre os estágios da transição de carreira, as mudanças de comportamentos, o preparo, as principais dificuldades e adaptação que normalmente são os mesmos independente da área de atuação.\"\"\")\n",
        "transicao"
      ],
      "metadata": {
        "colab": {
          "base_uri": "https://localhost:8080/",
          "height": 174
        },
        "id": "MRupBOXcVPkT",
        "outputId": "1ebf03d1-dca7-48d1-9e43-ac84e5622a57"
      },
      "execution_count": null,
      "outputs": [
        {
          "output_type": "execute_result",
          "data": {
            "text/plain": [
              "'Existem várias questões que podem levar o profissional a considerar uma transição de carreira, e uma delas é ter insatisfações com o seu rumo profissional ou cargo atual e está tudo bem se isso acontecer, mudar faz parte da nossa existência.\\nA baixa produtividade pode ser uma das características das pessoas insatisfeitas que permanecem em seu cargo indesejado. Seja qual for a sua motivação ou propósito, deve haver cuidado para as consequências não refletirem diretamente na vida pessoal do profissional.\\nA transição de carreira é uma ótima opção para as pessoas que desejam desfrutar de novos desafios, que estão em busca de maior satisfação ou até mesmo estabilidade financeira. Muitos jovens fazem curso superior antes mesmo de ter alguma experiência no mercado de trabalho, isso pode também ocasionar uma transição, pois com a experiência profissional essas pessoas passam a ter contato com novas áreas.\\nAlém disso, podemos ver que o mundo está em constante mudança, novos empregos surgem enquanto outros são automatizados, e neste meio de tanta instabilidade desenvolver nossa capacidade de adaptação para desenvolver novas habilidades e competências pode fazer toda diferença em nossa carreira.\\nPensando na complexidade deste contexto, quero compartilhar com você pontos importantes sobre os estágios da transição de carreira, as mudanças de comportamentos, o preparo, as principais dificuldades e adaptação que normalmente são os mesmos independente da área de atuação.'"
            ],
            "application/vnd.google.colaboratory.intrinsic+json": {
              "type": "string"
            }
          },
          "metadata": {},
          "execution_count": 98
        }
      ]
    },
    {
      "cell_type": "code",
      "source": [
        "def analisa_ferquencia_de_letras(texto):\n",
        "  aparicoes = Counter(texto.lower())\n",
        "  total_de_caracteres = sum(aparicoes.values())\n",
        "  proporcoes = [(letra, frequencia / total_de_caracteres) for letra, frequencia in aparicoes.items()]\n",
        "  proporcoes = Counter(dict(proporcoes))\n",
        "  mais_comuns = proporcoes.most_common(10)\n",
        "  for caractere, proporcao in mais_comuns:\n",
        "    print(f\"'{caractere}' => {proporcao * 100 :.2f}%\")"
      ],
      "metadata": {
        "id": "iY7HwM2lVeh7"
      },
      "execution_count": null,
      "outputs": []
    },
    {
      "cell_type": "code",
      "source": [
        "analisa_ferquencia_de_letras(aws)"
      ],
      "metadata": {
        "colab": {
          "base_uri": "https://localhost:8080/"
        },
        "id": "t-meQh3_WHzz",
        "outputId": "a02f7520-daef-4898-f515-0d154d484d44"
      },
      "execution_count": null,
      "outputs": [
        {
          "output_type": "stream",
          "name": "stdout",
          "text": [
            "' ' => 14.16%\n",
            "'e' => 12.24%\n",
            "'a' => 8.04%\n",
            "'o' => 7.87%\n",
            "'r' => 5.77%\n",
            "'s' => 5.77%\n",
            "'d' => 5.59%\n",
            "'i' => 5.07%\n",
            "'t' => 4.72%\n",
            "'n' => 4.55%\n"
          ]
        }
      ]
    },
    {
      "cell_type": "code",
      "source": [
        "analisa_ferquencia_de_letras(transicao)"
      ],
      "metadata": {
        "colab": {
          "base_uri": "https://localhost:8080/"
        },
        "id": "cxFIisrzaFm8",
        "outputId": "e72615d4-849e-44f8-95e8-47aa3a66178b"
      },
      "execution_count": null,
      "outputs": [
        {
          "output_type": "stream",
          "name": "stdout",
          "text": [
            "' ' => 14.87%\n",
            "'a' => 10.75%\n",
            "'e' => 9.74%\n",
            "'s' => 8.45%\n",
            "'o' => 8.11%\n",
            "'r' => 5.34%\n",
            "'i' => 5.21%\n",
            "'d' => 4.60%\n",
            "'t' => 4.46%\n",
            "'n' => 4.26%\n"
          ]
        }
      ]
    },
    {
      "cell_type": "code",
      "source": [],
      "metadata": {
        "id": "1xRikZPVbljM"
      },
      "execution_count": null,
      "outputs": []
    }
  ]
}